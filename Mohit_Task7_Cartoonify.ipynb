{
 "cells": [
  {
   "cell_type": "code",
   "execution_count": 1,
   "metadata": {},
   "outputs": [
    {
     "name": "stderr",
     "output_type": "stream",
     "text": [
      "OpenCV: FFMPEG: tag 0x58564944/'DIVX' is not supported with codec id 12 and format 'mp4 / MP4 (MPEG-4 Part 14)'\n",
      "OpenCV: FFMPEG: fallback to use tag 0x7634706d/'mp4v'\n"
     ]
    },
    {
     "ename": "ValueError",
     "evalue": "could not broadcast input array from shape (316,840,3) into shape (316,622,3)",
     "output_type": "error",
     "traceback": [
      "\u001b[0;31m---------------------------------------------------------------------------\u001b[0m",
      "\u001b[0;31mValueError\u001b[0m                                Traceback (most recent call last)",
      "Cell \u001b[0;32mIn [1], line 53\u001b[0m\n\u001b[1;32m     51\u001b[0m \u001b[39mfor\u001b[39;00m (x,y,w,h) \u001b[39min\u001b[39;00m faces:\n\u001b[1;32m     52\u001b[0m     img_h, img_w, _ \u001b[39m=\u001b[39m img_to_place\u001b[39m.\u001b[39mshape \n\u001b[0;32m---> 53\u001b[0m     frame[y:y\u001b[39m+\u001b[39;49mimg_h, x:x\u001b[39m+\u001b[39;49mimg_w] \u001b[39m=\u001b[39m img_to_place\n\u001b[1;32m     55\u001b[0m     \u001b[39m# Display the resulting frame\u001b[39;00m\n\u001b[1;32m     56\u001b[0m     cv2\u001b[39m.\u001b[39mimshow(\u001b[39m'\u001b[39m\u001b[39mFace Video\u001b[39m\u001b[39m'\u001b[39m, frame)\n",
      "\u001b[0;31mValueError\u001b[0m: could not broadcast input array from shape (316,840,3) into shape (316,622,3)"
     ]
    }
   ],
   "source": [
    "import cv2\n",
    "import os\n",
    "\n",
    "# built-in Python function that returns the directory name of the pathname path (returns path)\n",
    "cascPathface = os.path.dirname(\n",
    "    cv2.__file__) + \"/data/haarcascade_frontalface_alt2.xml\"\n",
    "cascPatheyes = os.path.dirname(\n",
    "    cv2.__file__) + \"/data/haarcascade_eye_tree_eyeglasses.xml\"\n",
    "\n",
    "# loads an image from the specified file\n",
    "img_to_place = cv2.imread('pikachu.png')\n",
    "\n",
    "# class to detect objects in a video stream\n",
    "faceCascade = cv2.CascadeClassifier(cascPathface)\n",
    "\n",
    "# Class for video capturing from video files, image sequences or cameras\n",
    "video_capture = cv2.VideoCapture(0)\n",
    "\n",
    "# Get current width of frame\n",
    "width = video_capture.get(cv2.CAP_PROP_FRAME_WIDTH)  \n",
    "# Get current height of frame\n",
    "height = video_capture.get(cv2.CAP_PROP_FRAME_HEIGHT)  \n",
    "\n",
    "fourcc = cv2.VideoWriter_fourcc(*'DIVX')\n",
    "out = cv2.VideoWriter('output.mp4', fourcc, 20.0, (int(width), int(height)))\n",
    "\n",
    "while True:\n",
    "    # Capture frame-by-frame - .read() Grabs, decodes and returns the next video frame.\n",
    "    ret, frame = video_capture.read()\n",
    "\n",
    "    # .cvtColor() is used to convert an image from one color space to another. \n",
    "    gray = cv2.cvtColor(frame, cv2.COLOR_BGR2GRAY)\n",
    "\n",
    "    # the detection is done using the .detectMultiScale() method, returns boundary rectangles for the detected faces or eyes\n",
    "    \"\"\"\n",
    "    Parameters\n",
    "    image:  \t    Matrix of the type CV_8U containing an image where objects are detected.\n",
    "    objects:\t    Vector of rectangles where each rectangle contains the detected object, the rectangles may be partially outside the original image.\n",
    "    scaleFactor:\tParameter specifying how much the image size is reduced at each image scale.\n",
    "    minNeighbors:\tParameter specifying how many neighbors each candidate rectangle should have to retain it.\n",
    "    flags:      \tParameter with the same meaning for an old cascade as in the function cvHaarDetectObjects. It is not used for a new cascade.\n",
    "    minSize:    \tMinimum possible object size. Objects smaller than that are ignored.\n",
    "    maxSize:    \tMaximum possible object size. Objects larger than that are ignored. If maxSize == minSize model is evaluated on single scale.\n",
    "    \"\"\"\n",
    "    faces = faceCascade.detectMultiScale(gray,\n",
    "                                         scaleFactor=1.1,\n",
    "                                         minNeighbors=5,\n",
    "                                         minSize=(60, 60),\n",
    "                                         flags=cv2.CASCADE_SCALE_IMAGE)\n",
    "\n",
    "    for (x,y,w,h) in faces:\n",
    "        img_h, img_w, _ = img_to_place.shape \n",
    "        frame[y:y+img_h, x:x+img_w] = img_to_place\n",
    "\n",
    "        # Display the resulting frame\n",
    "        cv2.imshow('Face Video', frame)\n",
    "\n",
    "    out.write(frame)\n",
    "\n",
    "    if cv2.waitKey(1) & 0xFF == ord('q'):\n",
    "        break\n",
    "video_capture.release()\n",
    "out.release()\n",
    "cv2.destroyAllWindows()"
   ]
  }
 ],
 "metadata": {
  "kernelspec": {
   "display_name": "Python 3",
   "language": "python",
   "name": "python3"
  },
  "language_info": {
   "codemirror_mode": {
    "name": "ipython",
    "version": 3
   },
   "file_extension": ".py",
   "mimetype": "text/x-python",
   "name": "python",
   "nbconvert_exporter": "python",
   "pygments_lexer": "ipython3",
   "version": "3.10.7 (v3.10.7:6cc6b13308, Sep  5 2022, 14:02:52) [Clang 13.0.0 (clang-1300.0.29.30)]"
  },
  "orig_nbformat": 4,
  "vscode": {
   "interpreter": {
    "hash": "aee8b7b246df8f9039afb4144a1f6fd8d2ca17a180786b69acc140d282b71a49"
   }
  }
 },
 "nbformat": 4,
 "nbformat_minor": 2
}
